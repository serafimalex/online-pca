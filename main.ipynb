{
 "cells": [
  {
   "cell_type": "code",
   "execution_count": 1,
   "id": "26a18ba3",
   "metadata": {},
   "outputs": [],
   "source": [
    "import numpy as np\n",
    "import matplotlib.pyplot as plt\n",
    "from svd import ApproxSVD\n",
    "from scipy.sparse.linalg import svds\n",
    "import tests"
   ]
  },
  {
   "cell_type": "code",
   "execution_count": 2,
   "id": "459610ff",
   "metadata": {},
   "outputs": [
    {
     "name": "stdout",
     "output_type": "stream",
     "text": [
      "[[0.3745 0.9507 0.732  ... 0.3278 0.8157 0.5973]\n",
      " [0.3936 0.4734 0.8545 ... 0.9467 0.3975 0.2171]\n",
      " [0.3736 0.3329 0.1762 ... 0.0512 0.683  0.2511]\n",
      " ...\n",
      " [0.7274 0.7204 0.428  ... 0.1609 0.0996 0.1983]\n",
      " [0.4623 0.4362 0.1393 ... 0.2416 0.2796 0.3552]\n",
      " [0.1929 0.6728 0.4566 ... 0.9962 0.623  0.0643]]\n"
     ]
    }
   ],
   "source": [
    "np.random.seed(42)\n",
    "random_matrix = np.random.rand(1000, 5000)\n",
    "\n",
    "print(random_matrix)"
   ]
  },
  {
   "cell_type": "code",
   "execution_count": 3,
   "id": "eda400b0",
   "metadata": {},
   "outputs": [
    {
     "name": "stdout",
     "output_type": "stream",
     "text": [
      "[[-0.0314  0.0425 -0.0329 ... -0.0442  0.0222 -0.0027]\n",
      " [-0.0311  0.0126  0.0308 ...  0.0025 -0.0129 -0.0387]\n",
      " [-0.0317  0.0233 -0.0114 ... -0.0018  0.0313 -0.0231]\n",
      " ...\n",
      " [-0.0317 -0.0094 -0.0137 ... -0.049   0.0198  0.0012]\n",
      " [-0.0317  0.0421  0.0469 ...  0.0896  0.0019 -0.0244]\n",
      " [-0.0315  0.0204  0.0447 ... -0.0165 -0.0311 -0.0062]]\n"
     ]
    }
   ],
   "source": [
    "p = 500\n",
    "u, s, vt = np.linalg.svd(random_matrix)\n",
    "print(u)"
   ]
  },
  {
   "cell_type": "code",
   "execution_count": 4,
   "id": "442d115a",
   "metadata": {},
   "outputs": [
    {
     "name": "stderr",
     "output_type": "stream",
     "text": [
      "DEBUG - Time: 17.502 seconds for initial scores\n",
      "DEBUG - Time: 0.002 seconds for find max score\n",
      "DEBUG - Time: 0.002 seconds for perform matrix mul\n",
      "DEBUG - Time: 0.058 seconds for update scores\n",
      "DEBUG - Time: 0.002 seconds for find max score\n",
      "DEBUG - Time: 0.001 seconds for perform matrix mul\n",
      "DEBUG - Time: 0.056 seconds for update scores\n",
      "DEBUG - Time: 0.002 seconds for find max score\n",
      "DEBUG - Time: 0.001 seconds for perform matrix mul\n",
      "DEBUG - Time: 0.019 seconds for update scores\n",
      "DEBUG - Time: 0.002 seconds for find max score\n",
      "DEBUG - Time: 0.001 seconds for perform matrix mul\n",
      "DEBUG - Time: 0.056 seconds for update scores\n",
      "DEBUG - Time: 0.002 seconds for find max score\n",
      "DEBUG - Time: 0.001 seconds for perform matrix mul\n",
      "DEBUG - Time: 0.059 seconds for update scores\n",
      "DEBUG - Time: 0.002 seconds for find max score\n",
      "DEBUG - Time: 0.001 seconds for perform matrix mul\n",
      "DEBUG - Time: 0.016 seconds for update scores\n",
      "DEBUG - Time: 0.002 seconds for find max score\n",
      "DEBUG - Time: 0.001 seconds for perform matrix mul\n",
      "DEBUG - Time: 0.016 seconds for update scores\n",
      "DEBUG - Time: 0.002 seconds for find max score\n",
      "DEBUG - Time: 0.001 seconds for perform matrix mul\n",
      "DEBUG - Time: 0.059 seconds for update scores\n",
      "DEBUG - Time: 0.002 seconds for find max score\n",
      "DEBUG - Time: 0.001 seconds for perform matrix mul\n",
      "DEBUG - Time: 0.028 seconds for update scores\n",
      "DEBUG - Time: 0.003 seconds for find max score\n",
      "DEBUG - Time: 0.001 seconds for perform matrix mul\n",
      "DEBUG - Time: 0.016 seconds for update scores\n",
      "DEBUG - Time: 17.963 seconds for total time\n"
     ]
    }
   ],
   "source": [
    "approx_svd = ApproxSVD(10, p, True)\n",
    "traces, ubar, x_approx = approx_svd.fit(random_matrix)\n",
    "\n",
    "# plt.plot(traces, label='Data')\n",
    "# aux = u.transpose() @ random_matrix @ vt.transpose()\n",
    "# true_energy = np.trace(aux[:p, :p])\n",
    "\n",
    "# plt.axhline(y=true_energy, color='red', linestyle='dotted', linewidth=2, label='Real U trace')\n",
    "# plt.ylim(bottom=min(0, traces.min()))\n",
    "# plt.xlabel('Index')\n",
    "# plt.ylabel('Trace')\n",
    "# plt.title('Trace progression vs real U trace')\n",
    "# plt.legend()\n",
    "# plt.show()"
   ]
  },
  {
   "cell_type": "code",
   "execution_count": 6,
   "id": "8f850a9f",
   "metadata": {},
   "outputs": [
    {
     "name": "stdout",
     "output_type": "stream",
     "text": [
      "[[0.3745 0.9507 0.732  ... 0.3278 0.8157 0.5973]\n",
      " [0.3936 0.4734 0.8545 ... 0.9467 0.3975 0.2171]\n",
      " [0.3736 0.3329 0.1762 ... 0.0512 0.683  0.2511]\n",
      " ...\n",
      " [0.1963 0.039  0.516  ... 0.108  0.7589 0.1475]\n",
      " [0.7537 0.7883 0.0918 ... 0.1003 0.7943 0.5209]\n",
      " [0.0634 0.2115 0.4546 ... 0.0203 0.6334 0.0622]]\n",
      "\n",
      "[[-0.1604  0.0259  0.389  ... -0.0576 -0.2907 -0.0664]\n",
      " [-0.3162 -0.3892 -0.6159 ... -0.336  -0.3811  0.0264]\n",
      " [ 0.6091  0.8321  0.9222 ...  0.2932  0.6428  0.7133]\n",
      " ...\n",
      " [-0.7049 -0.21   -0.0606 ... -0.0761  0.075  -0.049 ]\n",
      " [-0.0964 -0.1858  0.3023 ...  0.2416 -0.1841  0.0331]\n",
      " [-0.3876 -0.6339 -0.0783 ... -0.0867 -0.2821 -0.556 ]]\n"
     ]
    }
   ],
   "source": [
    "# ubar projection\n",
    "print(ubar[:p, :] @ random_matrix)\n",
    "print()\n",
    "# true u projection\n",
    "print(u[:p, :] @ random_matrix)\n"
   ]
  },
  {
   "cell_type": "code",
   "execution_count": 7,
   "id": "6b5a4bc5",
   "metadata": {},
   "outputs": [
    {
     "name": "stdout",
     "output_type": "stream",
     "text": [
      "0.06294843458845456\n",
      "\n",
      "0.00012543725708802356\n",
      "\n",
      "0.0006524955992901482\n",
      "\n",
      "0.016362196099922954\n",
      "\n",
      "0.05553140781350763\n",
      "\n",
      "0.007592436581573381\n",
      "\n",
      "0.05216893995120664\n",
      "\n",
      "0.03787266351195129\n",
      "\n",
      "0.03437700507070396\n",
      "\n",
      "0.011808264790044376\n",
      "\n"
     ]
    }
   ],
   "source": [
    "tests.run_tests()"
   ]
  },
  {
   "cell_type": "markdown",
   "id": "584a137b",
   "metadata": {},
   "source": [
    "# Validate Ubar\n",
    "Extract mean from random matrix (to center it) and then project it with Ubar to functionally perform PCA (not sure)"
   ]
  },
  {
   "cell_type": "code",
   "execution_count": 7,
   "id": "168754d7",
   "metadata": {},
   "outputs": [
    {
     "name": "stdout",
     "output_type": "stream",
     "text": [
      "[[ 0.1754 -0.2381 -0.3823 -0.1022  0.3274  0.0741  0.4407 -0.4879 -0.2634  0.0331  0.6366 -0.2133]\n",
      " [-0.2892  0.0096  0.1961  0.1071 -0.2477 -0.2556 -0.3747  0.3573 -0.3771  0.5138  0.045   0.3155]\n",
      " [ 0.3712 -0.2035 -0.0026 -0.1379 -0.2235  0.1585 -0.1568  0.2047  0.2198 -0.111  -0.2145  0.0955]]\n",
      "\n",
      "[[-0.1869 -0.8131 -0.8148 -0.7076 -0.2353 -0.1533 -0.0755 -0.9628 -0.26   -1.0699 -0.3948 -0.9995]\n",
      " [ 0.1592  0.3465 -0.2486  0.1411  0.4342 -0.1638  0.4952 -0.3825 -0.2481  0.4454  0.7732  0.2489]\n",
      " [-0.9303 -0.8672 -0.5108 -0.5414 -0.4477 -0.4473 -0.5081 -0.6364 -0.7989 -0.6401 -0.4246 -0.9505]]\n",
      "\n",
      "[[-0.253   0.1882  0.408   0.1234 -0.439  -0.2063 -0.5925  0.615   0.0175  0.2656 -0.5109  0.3839]\n",
      " [-0.2191  0.4288 -0.2272  0.0709  0.0664 -0.5617  0.0327 -0.2992 -0.4515  0.4679  0.3549  0.3371]\n",
      " [-0.2028 -0.3663  0.1401  0.0606  0.0245  0.1539 -0.0399  0.1793 -0.292   0.2138  0.2677 -0.1391]]\n",
      "3.103733115204748\n",
      "3.515728907950974\n"
     ]
    }
   ],
   "source": [
    "from sklearn.decomposition import PCA\n",
    "random_mean = np.mean(random_matrix, axis=1, keepdims=True)\n",
    "random_centered = random_matrix - random_mean\n",
    "_, ubar, _ = svd.approx_svd(random_centered, p, 200)\n",
    "random_transposed = random_centered.transpose()\n",
    "\n",
    "# PCA to 3 components\n",
    "pca = PCA(n_components=3)\n",
    "X_pca = pca.fit_transform(random_transposed)\n",
    "\n",
    "print(ubar[:p, :] @ random_centered)\n",
    "print()\n",
    "print(u[:p, :] @ random_matrix)\n",
    "print()\n",
    "print(X_pca.transpose())\n",
    "print(np.linalg.norm(ubar[:p, :] @ random_matrix, 'fro'))\n",
    "print(np.linalg.norm(u[:p, :] @ random_matrix, 'fro'))"
   ]
  }
 ],
 "metadata": {
  "kernelspec": {
   "display_name": "online-pca",
   "language": "python",
   "name": "python3"
  },
  "language_info": {
   "codemirror_mode": {
    "name": "ipython",
    "version": 3
   },
   "file_extension": ".py",
   "mimetype": "text/x-python",
   "name": "python",
   "nbconvert_exporter": "python",
   "pygments_lexer": "ipython3",
   "version": "3.11.12"
  }
 },
 "nbformat": 4,
 "nbformat_minor": 5
}
