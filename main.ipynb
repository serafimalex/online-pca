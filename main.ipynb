{
 "cells": [
  {
   "cell_type": "code",
   "execution_count": 8,
   "id": "26a18ba3",
   "metadata": {},
   "outputs": [],
   "source": [
    "import numpy as np\n",
    "import matplotlib.pyplot as plt\n",
    "from svd import ApproxSVD\n",
    "from scipy.sparse.linalg import svds\n",
    "import tests"
   ]
  },
  {
   "cell_type": "code",
   "execution_count": 9,
   "id": "459610ff",
   "metadata": {},
   "outputs": [
    {
     "name": "stdout",
     "output_type": "stream",
     "text": [
      "[[0.3745 0.9507 0.732  0.5987 0.156  0.156  0.0581 0.8662 0.6011 0.7081 0.0206 0.9699]\n",
      " [0.8324 0.2123 0.1818 0.1834 0.3042 0.5248 0.4319 0.2912 0.6119 0.1395 0.2921 0.3664]\n",
      " [0.4561 0.7852 0.1997 0.5142 0.5924 0.0465 0.6075 0.1705 0.0651 0.9489 0.9656 0.8084]\n",
      " [0.3046 0.0977 0.6842 0.4402 0.122  0.4952 0.0344 0.9093 0.2588 0.6625 0.3117 0.5201]]\n"
     ]
    }
   ],
   "source": [
    "np.random.seed(42)\n",
    "random_matrix = np.random.rand(4, 12)\n",
    "\n",
    "print(random_matrix)"
   ]
  },
  {
   "cell_type": "code",
   "execution_count": 10,
   "id": "eda400b0",
   "metadata": {},
   "outputs": [
    {
     "name": "stdout",
     "output_type": "stream",
     "text": [
      "[[-0.6077  0.4448 -0.3508 -0.5566]\n",
      " [-0.3444 -0.0607  0.9048 -0.2429]\n",
      " [-0.5588 -0.7862 -0.2311  0.1276]\n",
      " [-0.4471  0.4248  0.0688  0.7842]]\n"
     ]
    }
   ],
   "source": [
    "p = 3\n",
    "u, s, vt = np.linalg.svd(random_matrix)\n",
    "print(u)"
   ]
  },
  {
   "cell_type": "code",
   "execution_count": 15,
   "id": "442d115a",
   "metadata": {},
   "outputs": [
    {
     "name": "stderr",
     "output_type": "stream",
     "text": [
      "DEBUG - Time: 0.001 seconds for initial scores\n",
      "DEBUG - Time: 0.000 seconds for find max score\n",
      "DEBUG - Time: 0.000 seconds for perform matrix mul\n",
      "DEBUG - Time: 0.001 seconds for update scores\n",
      "DEBUG - Time: 0.000 seconds for find max score\n",
      "DEBUG - Time: 0.000 seconds for perform matrix mul\n",
      "DEBUG - Time: 0.001 seconds for update scores\n",
      "DEBUG - Time: 0.000 seconds for find max score\n",
      "DEBUG - Time: 0.000 seconds for perform matrix mul\n",
      "DEBUG - Time: 0.000 seconds for update scores\n",
      "DEBUG - Time: 0.000 seconds for find max score\n",
      "DEBUG - Time: 0.000 seconds for perform matrix mul\n",
      "DEBUG - Time: 0.001 seconds for update scores\n",
      "DEBUG - Time: 0.000 seconds for find max score\n",
      "DEBUG - Time: 0.000 seconds for perform matrix mul\n",
      "DEBUG - Time: 0.000 seconds for update scores\n",
      "DEBUG - Time: 0.000 seconds for find max score\n",
      "DEBUG - Time: 0.000 seconds for perform matrix mul\n",
      "DEBUG - Time: 0.001 seconds for update scores\n",
      "DEBUG - Time: 0.000 seconds for find max score\n",
      "DEBUG - Time: 0.000 seconds for perform matrix mul\n",
      "DEBUG - Time: 0.000 seconds for update scores\n",
      "DEBUG - Time: 0.000 seconds for find max score\n",
      "DEBUG - Time: 0.000 seconds for perform matrix mul\n",
      "DEBUG - Time: 0.001 seconds for update scores\n",
      "DEBUG - Time: 0.000 seconds for find max score\n",
      "DEBUG - Time: 0.000 seconds for perform matrix mul\n",
      "DEBUG - Time: 0.001 seconds for update scores\n",
      "DEBUG - Time: 0.000 seconds for find max score\n",
      "DEBUG - Time: 0.000 seconds for perform matrix mul\n",
      "DEBUG - Time: 0.001 seconds for update scores\n",
      "DEBUG - Time: 0.071 seconds for total time\n"
     ]
    }
   ],
   "source": [
    "approx_svd = ApproxSVD(10, p, True)\n",
    "traces, ubar, x_approx = approx_svd.fit(random_matrix)\n",
    "\n",
    "# plt.plot(traces, label='Data')\n",
    "# aux = u.transpose() @ random_matrix @ vt.transpose()\n",
    "# true_energy = np.trace(aux[:p, :p])\n",
    "\n",
    "# plt.axhline(y=true_energy, color='red', linestyle='dotted', linewidth=2, label='Real U trace')\n",
    "# plt.ylim(bottom=min(0, traces.min()))\n",
    "# plt.xlabel('Index')\n",
    "# plt.ylabel('Trace')\n",
    "# plt.title('Trace progression vs real U trace')\n",
    "# plt.legend()\n",
    "# plt.show()"
   ]
  },
  {
   "cell_type": "code",
   "execution_count": null,
   "id": "8f850a9f",
   "metadata": {},
   "outputs": [
    {
     "name": "stdout",
     "output_type": "stream",
     "text": [
      "[[-0.4649 -0.1557 -0.8453 -0.2123]\n",
      " [-0.3466 -0.8405  0.3852 -0.1583]\n",
      " [-0.7008  0.519   0.3703 -0.3201]]\n",
      "\n",
      "[[-0.6077  0.4448 -0.3508 -0.5566]\n",
      " [-0.3444 -0.0607  0.9048 -0.2429]\n",
      " [-0.5588 -0.7862 -0.2311  0.1276]]\n"
     ]
    }
   ],
   "source": [
    "# ubar projection\n",
    "print(ubar[:p, :] @ random_matrix)\n",
    "print()\n",
    "# true u projection\n",
    "print(u[:p, :] @ random_matrix)\n"
   ]
  },
  {
   "cell_type": "code",
   "execution_count": 13,
   "id": "6b5a4bc5",
   "metadata": {},
   "outputs": [
    {
     "name": "stdout",
     "output_type": "stream",
     "text": [
      "0.04632260994098658\n",
      "\n",
      "0.0070977350871981315\n",
      "\n",
      "0.01579533408203737\n",
      "\n",
      "0.0010695179793689391\n",
      "\n",
      "0.0011217188743213313\n",
      "\n",
      "0.027401990204570126\n",
      "\n",
      "0.000367782705589903\n",
      "\n",
      "6.895103858539642e-06\n",
      "\n",
      "0.0002511481322073905\n",
      "\n",
      "0.0006559097356682031\n",
      "\n"
     ]
    }
   ],
   "source": [
    "tests.run_tests()"
   ]
  },
  {
   "cell_type": "markdown",
   "id": "584a137b",
   "metadata": {},
   "source": [
    "# Validate Ubar\n",
    "Extract mean from random matrix (to center it) and then project it with Ubar to functionally perform PCA (not sure)"
   ]
  },
  {
   "cell_type": "code",
   "execution_count": 1,
   "id": "168754d7",
   "metadata": {},
   "outputs": [
    {
     "ename": "KeyboardInterrupt",
     "evalue": "",
     "output_type": "error",
     "traceback": [
      "\u001b[31m---------------------------------------------------------------------------\u001b[39m",
      "\u001b[31mKeyboardInterrupt\u001b[39m                         Traceback (most recent call last)",
      "\u001b[36mCell\u001b[39m\u001b[36m \u001b[39m\u001b[32mIn[1]\u001b[39m\u001b[32m, line 1\u001b[39m\n\u001b[32m----> \u001b[39m\u001b[32m1\u001b[39m \u001b[38;5;28;01mfrom\u001b[39;00m\u001b[38;5;250m \u001b[39m\u001b[34;01msklearn\u001b[39;00m\u001b[34;01m.\u001b[39;00m\u001b[34;01mdecomposition\u001b[39;00m\u001b[38;5;250m \u001b[39m\u001b[38;5;28;01mimport\u001b[39;00m PCA\n\u001b[32m      2\u001b[39m random_mean = np.mean(random_matrix, axis=\u001b[32m1\u001b[39m, keepdims=\u001b[38;5;28;01mTrue\u001b[39;00m)\n\u001b[32m      3\u001b[39m random_centered = random_matrix - random_mean\n",
      "\u001b[36mFile \u001b[39m\u001b[32md:\\Utilitare\\conda\\envs\\online-pca\\Lib\\site-packages\\sklearn\\decomposition\\__init__.py:11\u001b[39m\n\u001b[32m      7\u001b[39m \u001b[38;5;66;03m# Authors: The scikit-learn developers\u001b[39;00m\n\u001b[32m      8\u001b[39m \u001b[38;5;66;03m# SPDX-License-Identifier: BSD-3-Clause\u001b[39;00m\n\u001b[32m     10\u001b[39m \u001b[38;5;28;01mfrom\u001b[39;00m\u001b[38;5;250m \u001b[39m\u001b[34;01m.\u001b[39;00m\u001b[34;01m.\u001b[39;00m\u001b[34;01mutils\u001b[39;00m\u001b[34;01m.\u001b[39;00m\u001b[34;01mextmath\u001b[39;00m\u001b[38;5;250m \u001b[39m\u001b[38;5;28;01mimport\u001b[39;00m randomized_svd\n\u001b[32m---> \u001b[39m\u001b[32m11\u001b[39m \u001b[38;5;28;01mfrom\u001b[39;00m\u001b[38;5;250m \u001b[39m\u001b[34;01m.\u001b[39;00m\u001b[34;01m_dict_learning\u001b[39;00m\u001b[38;5;250m \u001b[39m\u001b[38;5;28;01mimport\u001b[39;00m (\n\u001b[32m     12\u001b[39m     DictionaryLearning,\n\u001b[32m     13\u001b[39m     MiniBatchDictionaryLearning,\n\u001b[32m     14\u001b[39m     SparseCoder,\n\u001b[32m     15\u001b[39m     dict_learning,\n\u001b[32m     16\u001b[39m     dict_learning_online,\n\u001b[32m     17\u001b[39m     sparse_encode,\n\u001b[32m     18\u001b[39m )\n\u001b[32m     19\u001b[39m \u001b[38;5;28;01mfrom\u001b[39;00m\u001b[38;5;250m \u001b[39m\u001b[34;01m.\u001b[39;00m\u001b[34;01m_factor_analysis\u001b[39;00m\u001b[38;5;250m \u001b[39m\u001b[38;5;28;01mimport\u001b[39;00m FactorAnalysis\n\u001b[32m     20\u001b[39m \u001b[38;5;28;01mfrom\u001b[39;00m\u001b[38;5;250m \u001b[39m\u001b[34;01m.\u001b[39;00m\u001b[34;01m_fastica\u001b[39;00m\u001b[38;5;250m \u001b[39m\u001b[38;5;28;01mimport\u001b[39;00m FastICA, fastica\n",
      "\u001b[36mFile \u001b[39m\u001b[32md:\\Utilitare\\conda\\envs\\online-pca\\Lib\\site-packages\\sklearn\\decomposition\\_dict_learning.py:21\u001b[39m\n\u001b[32m     13\u001b[39m \u001b[38;5;28;01mfrom\u001b[39;00m\u001b[38;5;250m \u001b[39m\u001b[34;01mscipy\u001b[39;00m\u001b[38;5;250m \u001b[39m\u001b[38;5;28;01mimport\u001b[39;00m linalg\n\u001b[32m     15\u001b[39m \u001b[38;5;28;01mfrom\u001b[39;00m\u001b[38;5;250m \u001b[39m\u001b[34;01m.\u001b[39;00m\u001b[34;01m.\u001b[39;00m\u001b[34;01mbase\u001b[39;00m\u001b[38;5;250m \u001b[39m\u001b[38;5;28;01mimport\u001b[39;00m (\n\u001b[32m     16\u001b[39m     BaseEstimator,\n\u001b[32m     17\u001b[39m     ClassNamePrefixFeaturesOutMixin,\n\u001b[32m     18\u001b[39m     TransformerMixin,\n\u001b[32m     19\u001b[39m     _fit_context,\n\u001b[32m     20\u001b[39m )\n\u001b[32m---> \u001b[39m\u001b[32m21\u001b[39m \u001b[38;5;28;01mfrom\u001b[39;00m\u001b[38;5;250m \u001b[39m\u001b[34;01m.\u001b[39;00m\u001b[34;01m.\u001b[39;00m\u001b[34;01mlinear_model\u001b[39;00m\u001b[38;5;250m \u001b[39m\u001b[38;5;28;01mimport\u001b[39;00m Lars, Lasso, LassoLars, orthogonal_mp_gram\n\u001b[32m     22\u001b[39m \u001b[38;5;28;01mfrom\u001b[39;00m\u001b[38;5;250m \u001b[39m\u001b[34;01m.\u001b[39;00m\u001b[34;01m.\u001b[39;00m\u001b[34;01mutils\u001b[39;00m\u001b[38;5;250m \u001b[39m\u001b[38;5;28;01mimport\u001b[39;00m check_array, check_random_state, gen_batches, gen_even_slices\n\u001b[32m     23\u001b[39m \u001b[38;5;28;01mfrom\u001b[39;00m\u001b[38;5;250m \u001b[39m\u001b[34;01m.\u001b[39;00m\u001b[34;01m.\u001b[39;00m\u001b[34;01mutils\u001b[39;00m\u001b[34;01m.\u001b[39;00m\u001b[34;01m_param_validation\u001b[39;00m\u001b[38;5;250m \u001b[39m\u001b[38;5;28;01mimport\u001b[39;00m Interval, StrOptions, validate_params\n",
      "\u001b[36mFile \u001b[39m\u001b[32md:\\Utilitare\\conda\\envs\\online-pca\\Lib\\site-packages\\sklearn\\linear_model\\__init__.py:12\u001b[39m\n\u001b[32m     10\u001b[39m \u001b[38;5;28;01mfrom\u001b[39;00m\u001b[38;5;250m \u001b[39m\u001b[34;01m.\u001b[39;00m\u001b[34;01m_base\u001b[39;00m\u001b[38;5;250m \u001b[39m\u001b[38;5;28;01mimport\u001b[39;00m LinearRegression\n\u001b[32m     11\u001b[39m \u001b[38;5;28;01mfrom\u001b[39;00m\u001b[38;5;250m \u001b[39m\u001b[34;01m.\u001b[39;00m\u001b[34;01m_bayes\u001b[39;00m\u001b[38;5;250m \u001b[39m\u001b[38;5;28;01mimport\u001b[39;00m ARDRegression, BayesianRidge\n\u001b[32m---> \u001b[39m\u001b[32m12\u001b[39m \u001b[38;5;28;01mfrom\u001b[39;00m\u001b[38;5;250m \u001b[39m\u001b[34;01m.\u001b[39;00m\u001b[34;01m_coordinate_descent\u001b[39;00m\u001b[38;5;250m \u001b[39m\u001b[38;5;28;01mimport\u001b[39;00m (\n\u001b[32m     13\u001b[39m     ElasticNet,\n\u001b[32m     14\u001b[39m     ElasticNetCV,\n\u001b[32m     15\u001b[39m     Lasso,\n\u001b[32m     16\u001b[39m     LassoCV,\n\u001b[32m     17\u001b[39m     MultiTaskElasticNet,\n\u001b[32m     18\u001b[39m     MultiTaskElasticNetCV,\n\u001b[32m     19\u001b[39m     MultiTaskLasso,\n\u001b[32m     20\u001b[39m     MultiTaskLassoCV,\n\u001b[32m     21\u001b[39m     enet_path,\n\u001b[32m     22\u001b[39m     lasso_path,\n\u001b[32m     23\u001b[39m )\n\u001b[32m     24\u001b[39m \u001b[38;5;28;01mfrom\u001b[39;00m\u001b[38;5;250m \u001b[39m\u001b[34;01m.\u001b[39;00m\u001b[34;01m_glm\u001b[39;00m\u001b[38;5;250m \u001b[39m\u001b[38;5;28;01mimport\u001b[39;00m GammaRegressor, PoissonRegressor, TweedieRegressor\n\u001b[32m     25\u001b[39m \u001b[38;5;28;01mfrom\u001b[39;00m\u001b[38;5;250m \u001b[39m\u001b[34;01m.\u001b[39;00m\u001b[34;01m_huber\u001b[39;00m\u001b[38;5;250m \u001b[39m\u001b[38;5;28;01mimport\u001b[39;00m HuberRegressor\n",
      "\u001b[36mFile \u001b[39m\u001b[32md:\\Utilitare\\conda\\envs\\online-pca\\Lib\\site-packages\\sklearn\\linear_model\\_coordinate_descent.py:18\u001b[39m\n\u001b[32m     15\u001b[39m \u001b[38;5;28;01mfrom\u001b[39;00m\u001b[38;5;250m \u001b[39m\u001b[34;01msklearn\u001b[39;00m\u001b[34;01m.\u001b[39;00m\u001b[34;01mutils\u001b[39;00m\u001b[38;5;250m \u001b[39m\u001b[38;5;28;01mimport\u001b[39;00m metadata_routing\n\u001b[32m     17\u001b[39m \u001b[38;5;28;01mfrom\u001b[39;00m\u001b[38;5;250m \u001b[39m\u001b[34;01m.\u001b[39;00m\u001b[34;01m.\u001b[39;00m\u001b[34;01mbase\u001b[39;00m\u001b[38;5;250m \u001b[39m\u001b[38;5;28;01mimport\u001b[39;00m MultiOutputMixin, RegressorMixin, _fit_context\n\u001b[32m---> \u001b[39m\u001b[32m18\u001b[39m \u001b[38;5;28;01mfrom\u001b[39;00m\u001b[38;5;250m \u001b[39m\u001b[34;01m.\u001b[39;00m\u001b[34;01m.\u001b[39;00m\u001b[34;01mmodel_selection\u001b[39;00m\u001b[38;5;250m \u001b[39m\u001b[38;5;28;01mimport\u001b[39;00m check_cv\n\u001b[32m     19\u001b[39m \u001b[38;5;28;01mfrom\u001b[39;00m\u001b[38;5;250m \u001b[39m\u001b[34;01m.\u001b[39;00m\u001b[34;01m.\u001b[39;00m\u001b[34;01mutils\u001b[39;00m\u001b[38;5;250m \u001b[39m\u001b[38;5;28;01mimport\u001b[39;00m Bunch, check_array, check_scalar\n\u001b[32m     20\u001b[39m \u001b[38;5;28;01mfrom\u001b[39;00m\u001b[38;5;250m \u001b[39m\u001b[34;01m.\u001b[39;00m\u001b[34;01m.\u001b[39;00m\u001b[34;01mutils\u001b[39;00m\u001b[34;01m.\u001b[39;00m\u001b[34;01m_metadata_requests\u001b[39;00m\u001b[38;5;250m \u001b[39m\u001b[38;5;28;01mimport\u001b[39;00m (\n\u001b[32m     21\u001b[39m     MetadataRouter,\n\u001b[32m     22\u001b[39m     MethodMapping,\n\u001b[32m     23\u001b[39m     _raise_for_params,\n\u001b[32m     24\u001b[39m     get_routing_for_object,\n\u001b[32m     25\u001b[39m )\n",
      "\u001b[36mFile \u001b[39m\u001b[32md:\\Utilitare\\conda\\envs\\online-pca\\Lib\\site-packages\\sklearn\\model_selection\\__init__.py:8\u001b[39m\n\u001b[32m      3\u001b[39m \u001b[38;5;66;03m# Authors: The scikit-learn developers\u001b[39;00m\n\u001b[32m      4\u001b[39m \u001b[38;5;66;03m# SPDX-License-Identifier: BSD-3-Clause\u001b[39;00m\n\u001b[32m      6\u001b[39m \u001b[38;5;28;01mimport\u001b[39;00m\u001b[38;5;250m \u001b[39m\u001b[34;01mtyping\u001b[39;00m\n\u001b[32m----> \u001b[39m\u001b[32m8\u001b[39m \u001b[38;5;28;01mfrom\u001b[39;00m\u001b[38;5;250m \u001b[39m\u001b[34;01m.\u001b[39;00m\u001b[34;01m_classification_threshold\u001b[39;00m\u001b[38;5;250m \u001b[39m\u001b[38;5;28;01mimport\u001b[39;00m (\n\u001b[32m      9\u001b[39m     FixedThresholdClassifier,\n\u001b[32m     10\u001b[39m     TunedThresholdClassifierCV,\n\u001b[32m     11\u001b[39m )\n\u001b[32m     12\u001b[39m \u001b[38;5;28;01mfrom\u001b[39;00m\u001b[38;5;250m \u001b[39m\u001b[34;01m.\u001b[39;00m\u001b[34;01m_plot\u001b[39;00m\u001b[38;5;250m \u001b[39m\u001b[38;5;28;01mimport\u001b[39;00m LearningCurveDisplay, ValidationCurveDisplay\n\u001b[32m     13\u001b[39m \u001b[38;5;28;01mfrom\u001b[39;00m\u001b[38;5;250m \u001b[39m\u001b[34;01m.\u001b[39;00m\u001b[34;01m_search\u001b[39;00m\u001b[38;5;250m \u001b[39m\u001b[38;5;28;01mimport\u001b[39;00m GridSearchCV, ParameterGrid, ParameterSampler, RandomizedSearchCV\n",
      "\u001b[36mFile \u001b[39m\u001b[32md:\\Utilitare\\conda\\envs\\online-pca\\Lib\\site-packages\\sklearn\\model_selection\\_classification_threshold.py:17\u001b[39m\n\u001b[32m      9\u001b[39m \u001b[38;5;28;01mfrom\u001b[39;00m\u001b[38;5;250m \u001b[39m\u001b[34;01m.\u001b[39;00m\u001b[34;01m.\u001b[39;00m\u001b[34;01mbase\u001b[39;00m\u001b[38;5;250m \u001b[39m\u001b[38;5;28;01mimport\u001b[39;00m (\n\u001b[32m     10\u001b[39m     BaseEstimator,\n\u001b[32m     11\u001b[39m     ClassifierMixin,\n\u001b[32m   (...)\u001b[39m\u001b[32m     14\u001b[39m     clone,\n\u001b[32m     15\u001b[39m )\n\u001b[32m     16\u001b[39m \u001b[38;5;28;01mfrom\u001b[39;00m\u001b[38;5;250m \u001b[39m\u001b[34;01m.\u001b[39;00m\u001b[34;01m.\u001b[39;00m\u001b[34;01mexceptions\u001b[39;00m\u001b[38;5;250m \u001b[39m\u001b[38;5;28;01mimport\u001b[39;00m NotFittedError\n\u001b[32m---> \u001b[39m\u001b[32m17\u001b[39m \u001b[38;5;28;01mfrom\u001b[39;00m\u001b[38;5;250m \u001b[39m\u001b[34;01m.\u001b[39;00m\u001b[34;01m.\u001b[39;00m\u001b[34;01mmetrics\u001b[39;00m\u001b[38;5;250m \u001b[39m\u001b[38;5;28;01mimport\u001b[39;00m (\n\u001b[32m     18\u001b[39m     check_scoring,\n\u001b[32m     19\u001b[39m     get_scorer_names,\n\u001b[32m     20\u001b[39m )\n\u001b[32m     21\u001b[39m \u001b[38;5;28;01mfrom\u001b[39;00m\u001b[38;5;250m \u001b[39m\u001b[34;01m.\u001b[39;00m\u001b[34;01m.\u001b[39;00m\u001b[34;01mmetrics\u001b[39;00m\u001b[34;01m.\u001b[39;00m\u001b[34;01m_scorer\u001b[39;00m\u001b[38;5;250m \u001b[39m\u001b[38;5;28;01mimport\u001b[39;00m (\n\u001b[32m     22\u001b[39m     _CurveScorer,\n\u001b[32m     23\u001b[39m     _threshold_scores_to_class_labels,\n\u001b[32m     24\u001b[39m )\n\u001b[32m     25\u001b[39m \u001b[38;5;28;01mfrom\u001b[39;00m\u001b[38;5;250m \u001b[39m\u001b[34;01m.\u001b[39;00m\u001b[34;01m.\u001b[39;00m\u001b[34;01mutils\u001b[39;00m\u001b[38;5;250m \u001b[39m\u001b[38;5;28;01mimport\u001b[39;00m _safe_indexing, get_tags\n",
      "\u001b[36mFile \u001b[39m\u001b[32md:\\Utilitare\\conda\\envs\\online-pca\\Lib\\site-packages\\sklearn\\metrics\\__init__.py:6\u001b[39m\n\u001b[32m      1\u001b[39m \u001b[33;03m\"\"\"Score functions, performance metrics, pairwise metrics and distance computations.\"\"\"\u001b[39;00m\n\u001b[32m      3\u001b[39m \u001b[38;5;66;03m# Authors: The scikit-learn developers\u001b[39;00m\n\u001b[32m      4\u001b[39m \u001b[38;5;66;03m# SPDX-License-Identifier: BSD-3-Clause\u001b[39;00m\n\u001b[32m----> \u001b[39m\u001b[32m6\u001b[39m \u001b[38;5;28;01mfrom\u001b[39;00m\u001b[38;5;250m \u001b[39m\u001b[34;01m.\u001b[39;00m\u001b[38;5;250m \u001b[39m\u001b[38;5;28;01mimport\u001b[39;00m cluster\n\u001b[32m      7\u001b[39m \u001b[38;5;28;01mfrom\u001b[39;00m\u001b[38;5;250m \u001b[39m\u001b[34;01m.\u001b[39;00m\u001b[34;01m_classification\u001b[39;00m\u001b[38;5;250m \u001b[39m\u001b[38;5;28;01mimport\u001b[39;00m (\n\u001b[32m      8\u001b[39m     accuracy_score,\n\u001b[32m      9\u001b[39m     balanced_accuracy_score,\n\u001b[32m   (...)\u001b[39m\u001b[32m     27\u001b[39m     zero_one_loss,\n\u001b[32m     28\u001b[39m )\n\u001b[32m     29\u001b[39m \u001b[38;5;28;01mfrom\u001b[39;00m\u001b[38;5;250m \u001b[39m\u001b[34;01m.\u001b[39;00m\u001b[34;01m_dist_metrics\u001b[39;00m\u001b[38;5;250m \u001b[39m\u001b[38;5;28;01mimport\u001b[39;00m DistanceMetric\n",
      "\u001b[36mFile \u001b[39m\u001b[32md:\\Utilitare\\conda\\envs\\online-pca\\Lib\\site-packages\\sklearn\\metrics\\cluster\\__init__.py:28\u001b[39m\n\u001b[32m     11\u001b[39m \u001b[38;5;28;01mfrom\u001b[39;00m\u001b[38;5;250m \u001b[39m\u001b[34;01m.\u001b[39;00m\u001b[34;01m_bicluster\u001b[39;00m\u001b[38;5;250m \u001b[39m\u001b[38;5;28;01mimport\u001b[39;00m consensus_score\n\u001b[32m     12\u001b[39m \u001b[38;5;28;01mfrom\u001b[39;00m\u001b[38;5;250m \u001b[39m\u001b[34;01m.\u001b[39;00m\u001b[34;01m_supervised\u001b[39;00m\u001b[38;5;250m \u001b[39m\u001b[38;5;28;01mimport\u001b[39;00m (\n\u001b[32m     13\u001b[39m     adjusted_mutual_info_score,\n\u001b[32m     14\u001b[39m     adjusted_rand_score,\n\u001b[32m   (...)\u001b[39m\u001b[32m     26\u001b[39m     v_measure_score,\n\u001b[32m     27\u001b[39m )\n\u001b[32m---> \u001b[39m\u001b[32m28\u001b[39m \u001b[38;5;28;01mfrom\u001b[39;00m\u001b[38;5;250m \u001b[39m\u001b[34;01m.\u001b[39;00m\u001b[34;01m_unsupervised\u001b[39;00m\u001b[38;5;250m \u001b[39m\u001b[38;5;28;01mimport\u001b[39;00m (\n\u001b[32m     29\u001b[39m     calinski_harabasz_score,\n\u001b[32m     30\u001b[39m     davies_bouldin_score,\n\u001b[32m     31\u001b[39m     silhouette_samples,\n\u001b[32m     32\u001b[39m     silhouette_score,\n\u001b[32m     33\u001b[39m )\n\u001b[32m     35\u001b[39m __all__ = [\n\u001b[32m     36\u001b[39m     \u001b[33m\"\u001b[39m\u001b[33madjusted_mutual_info_score\u001b[39m\u001b[33m\"\u001b[39m,\n\u001b[32m     37\u001b[39m     \u001b[33m\"\u001b[39m\u001b[33mnormalized_mutual_info_score\u001b[39m\u001b[33m\"\u001b[39m,\n\u001b[32m   (...)\u001b[39m\u001b[32m     54\u001b[39m     \u001b[33m\"\u001b[39m\u001b[33mconsensus_score\u001b[39m\u001b[33m\"\u001b[39m,\n\u001b[32m     55\u001b[39m ]\n",
      "\u001b[36mFile \u001b[39m\u001b[32md:\\Utilitare\\conda\\envs\\online-pca\\Lib\\site-packages\\sklearn\\metrics\\cluster\\_unsupervised.py:21\u001b[39m\n\u001b[32m     15\u001b[39m \u001b[38;5;28;01mfrom\u001b[39;00m\u001b[38;5;250m \u001b[39m\u001b[34;01m.\u001b[39;00m\u001b[34;01m.\u001b[39;00m\u001b[34;01m.\u001b[39;00m\u001b[34;01mutils\u001b[39;00m\u001b[34;01m.\u001b[39;00m\u001b[34;01m_array_api\u001b[39;00m\u001b[38;5;250m \u001b[39m\u001b[38;5;28;01mimport\u001b[39;00m _atol_for_type\n\u001b[32m     16\u001b[39m \u001b[38;5;28;01mfrom\u001b[39;00m\u001b[38;5;250m \u001b[39m\u001b[34;01m.\u001b[39;00m\u001b[34;01m.\u001b[39;00m\u001b[34;01m.\u001b[39;00m\u001b[34;01mutils\u001b[39;00m\u001b[34;01m.\u001b[39;00m\u001b[34;01m_param_validation\u001b[39;00m\u001b[38;5;250m \u001b[39m\u001b[38;5;28;01mimport\u001b[39;00m (\n\u001b[32m     17\u001b[39m     Interval,\n\u001b[32m     18\u001b[39m     StrOptions,\n\u001b[32m     19\u001b[39m     validate_params,\n\u001b[32m     20\u001b[39m )\n\u001b[32m---> \u001b[39m\u001b[32m21\u001b[39m \u001b[38;5;28;01mfrom\u001b[39;00m\u001b[38;5;250m \u001b[39m\u001b[34;01m.\u001b[39;00m\u001b[34;01m.\u001b[39;00m\u001b[34;01mpairwise\u001b[39;00m\u001b[38;5;250m \u001b[39m\u001b[38;5;28;01mimport\u001b[39;00m _VALID_METRICS, pairwise_distances, pairwise_distances_chunked\n\u001b[32m     24\u001b[39m \u001b[38;5;28;01mdef\u001b[39;00m\u001b[38;5;250m \u001b[39m\u001b[34mcheck_number_of_labels\u001b[39m(n_labels, n_samples):\n\u001b[32m     25\u001b[39m \u001b[38;5;250m    \u001b[39m\u001b[33;03m\"\"\"Check that number of labels are valid.\u001b[39;00m\n\u001b[32m     26\u001b[39m \n\u001b[32m     27\u001b[39m \u001b[33;03m    Parameters\u001b[39;00m\n\u001b[32m   (...)\u001b[39m\u001b[32m     33\u001b[39m \u001b[33;03m        Number of samples.\u001b[39;00m\n\u001b[32m     34\u001b[39m \u001b[33;03m    \"\"\"\u001b[39;00m\n",
      "\u001b[36mFile \u001b[39m\u001b[32md:\\Utilitare\\conda\\envs\\online-pca\\Lib\\site-packages\\sklearn\\metrics\\pairwise.py:46\u001b[39m\n\u001b[32m     44\u001b[39m \u001b[38;5;28;01mfrom\u001b[39;00m\u001b[38;5;250m \u001b[39m\u001b[34;01m.\u001b[39;00m\u001b[34;01m.\u001b[39;00m\u001b[34;01mutils\u001b[39;00m\u001b[34;01m.\u001b[39;00m\u001b[34;01mparallel\u001b[39;00m\u001b[38;5;250m \u001b[39m\u001b[38;5;28;01mimport\u001b[39;00m Parallel, delayed\n\u001b[32m     45\u001b[39m \u001b[38;5;28;01mfrom\u001b[39;00m\u001b[38;5;250m \u001b[39m\u001b[34;01m.\u001b[39;00m\u001b[34;01m.\u001b[39;00m\u001b[34;01mutils\u001b[39;00m\u001b[34;01m.\u001b[39;00m\u001b[34;01mvalidation\u001b[39;00m\u001b[38;5;250m \u001b[39m\u001b[38;5;28;01mimport\u001b[39;00m _num_samples, check_non_negative\n\u001b[32m---> \u001b[39m\u001b[32m46\u001b[39m \u001b[38;5;28;01mfrom\u001b[39;00m\u001b[38;5;250m \u001b[39m\u001b[34;01m.\u001b[39;00m\u001b[34;01m_pairwise_distances_reduction\u001b[39;00m\u001b[38;5;250m \u001b[39m\u001b[38;5;28;01mimport\u001b[39;00m ArgKmin\n\u001b[32m     47\u001b[39m \u001b[38;5;28;01mfrom\u001b[39;00m\u001b[38;5;250m \u001b[39m\u001b[34;01m.\u001b[39;00m\u001b[34;01m_pairwise_fast\u001b[39;00m\u001b[38;5;250m \u001b[39m\u001b[38;5;28;01mimport\u001b[39;00m _chi2_kernel_fast, _sparse_manhattan\n\u001b[32m     50\u001b[39m \u001b[38;5;66;03m# Utility Functions\u001b[39;00m\n",
      "\u001b[36mFile \u001b[39m\u001b[32md:\\Utilitare\\conda\\envs\\online-pca\\Lib\\site-packages\\sklearn\\metrics\\_pairwise_distances_reduction\\__init__.py:97\u001b[39m\n\u001b[32m      1\u001b[39m \u001b[38;5;66;03m# Authors: The scikit-learn developers\u001b[39;00m\n\u001b[32m      2\u001b[39m \u001b[38;5;66;03m# SPDX-License-Identifier: BSD-3-Clause\u001b[39;00m\n\u001b[32m      3\u001b[39m \n\u001b[32m   (...)\u001b[39m\u001b[32m     94\u001b[39m \u001b[38;5;66;03m#    (see :class:`MiddleTermComputer{32,64}`).\u001b[39;00m\n\u001b[32m     95\u001b[39m \u001b[38;5;66;03m#\u001b[39;00m\n\u001b[32m---> \u001b[39m\u001b[32m97\u001b[39m \u001b[38;5;28;01mfrom\u001b[39;00m\u001b[38;5;250m \u001b[39m\u001b[34;01m.\u001b[39;00m\u001b[34;01m_dispatcher\u001b[39;00m\u001b[38;5;250m \u001b[39m\u001b[38;5;28;01mimport\u001b[39;00m (\n\u001b[32m     98\u001b[39m     ArgKmin,\n\u001b[32m     99\u001b[39m     ArgKminClassMode,\n\u001b[32m    100\u001b[39m     BaseDistancesReductionDispatcher,\n\u001b[32m    101\u001b[39m     RadiusNeighbors,\n\u001b[32m    102\u001b[39m     RadiusNeighborsClassMode,\n\u001b[32m    103\u001b[39m     sqeuclidean_row_norms,\n\u001b[32m    104\u001b[39m )\n\u001b[32m    106\u001b[39m __all__ = [\n\u001b[32m    107\u001b[39m     \u001b[33m\"\u001b[39m\u001b[33mBaseDistancesReductionDispatcher\u001b[39m\u001b[33m\"\u001b[39m,\n\u001b[32m    108\u001b[39m     \u001b[33m\"\u001b[39m\u001b[33mArgKmin\u001b[39m\u001b[33m\"\u001b[39m,\n\u001b[32m   (...)\u001b[39m\u001b[32m    112\u001b[39m     \u001b[33m\"\u001b[39m\u001b[33msqeuclidean_row_norms\u001b[39m\u001b[33m\"\u001b[39m,\n\u001b[32m    113\u001b[39m ]\n\u001b[32m    115\u001b[39m \u001b[38;5;66;03m# ruff: noqa: E501\u001b[39;00m\n",
      "\u001b[36mFile \u001b[39m\u001b[32md:\\Utilitare\\conda\\envs\\online-pca\\Lib\\site-packages\\sklearn\\metrics\\_pairwise_distances_reduction\\_dispatcher.py:25\u001b[39m\n\u001b[32m     20\u001b[39m \u001b[38;5;28;01mfrom\u001b[39;00m\u001b[38;5;250m \u001b[39m\u001b[34;01m.\u001b[39;00m\u001b[34;01m_argkmin_classmode\u001b[39;00m\u001b[38;5;250m \u001b[39m\u001b[38;5;28;01mimport\u001b[39;00m (\n\u001b[32m     21\u001b[39m     ArgKminClassMode32,\n\u001b[32m     22\u001b[39m     ArgKminClassMode64,\n\u001b[32m     23\u001b[39m )\n\u001b[32m     24\u001b[39m \u001b[38;5;28;01mfrom\u001b[39;00m\u001b[38;5;250m \u001b[39m\u001b[34;01m.\u001b[39;00m\u001b[34;01m_base\u001b[39;00m\u001b[38;5;250m \u001b[39m\u001b[38;5;28;01mimport\u001b[39;00m _sqeuclidean_row_norms32, _sqeuclidean_row_norms64\n\u001b[32m---> \u001b[39m\u001b[32m25\u001b[39m \u001b[38;5;28;01mfrom\u001b[39;00m\u001b[38;5;250m \u001b[39m\u001b[34;01m.\u001b[39;00m\u001b[34;01m_radius_neighbors\u001b[39;00m\u001b[38;5;250m \u001b[39m\u001b[38;5;28;01mimport\u001b[39;00m (\n\u001b[32m     26\u001b[39m     RadiusNeighbors32,\n\u001b[32m     27\u001b[39m     RadiusNeighbors64,\n\u001b[32m     28\u001b[39m )\n\u001b[32m     29\u001b[39m \u001b[38;5;28;01mfrom\u001b[39;00m\u001b[38;5;250m \u001b[39m\u001b[34;01m.\u001b[39;00m\u001b[34;01m_radius_neighbors_classmode\u001b[39;00m\u001b[38;5;250m \u001b[39m\u001b[38;5;28;01mimport\u001b[39;00m (\n\u001b[32m     30\u001b[39m     RadiusNeighborsClassMode32,\n\u001b[32m     31\u001b[39m     RadiusNeighborsClassMode64,\n\u001b[32m     32\u001b[39m )\n\u001b[32m     35\u001b[39m \u001b[38;5;28;01mdef\u001b[39;00m\u001b[38;5;250m \u001b[39m\u001b[34msqeuclidean_row_norms\u001b[39m(X, num_threads):\n",
      "\u001b[36mFile \u001b[39m\u001b[32m<frozen importlib._bootstrap>:405\u001b[39m, in \u001b[36mparent\u001b[39m\u001b[34m(self)\u001b[39m\n",
      "\u001b[31mKeyboardInterrupt\u001b[39m: "
     ]
    }
   ],
   "source": [
    "from sklearn.decomposition import PCA\n",
    "random_mean = np.mean(random_matrix, axis=1, keepdims=True)\n",
    "random_centered = random_matrix - random_mean\n",
    "_, ubar, _ = svd.approx_svd(random_centered, p, 200)\n",
    "random_transposed = random_centered.transpose()\n",
    "\n",
    "# PCA to 3 components\n",
    "pca = PCA(n_components=3)\n",
    "X_pca = pca.fit_transform(random_transposed)\n",
    "\n",
    "print(ubar[:p, :] @ random_centered)\n",
    "print()\n",
    "print(u[:p, :] @ random_matrix)\n",
    "print()\n",
    "print(X_pca.transpose())\n",
    "print(np.linalg.norm(ubar[:p, :] @ random_matrix, 'fro'))\n",
    "print(np.linalg.norm(u[:p, :] @ random_matrix, 'fro'))"
   ]
  }
 ],
 "metadata": {
  "kernelspec": {
   "display_name": "online-pca",
   "language": "python",
   "name": "python3"
  },
  "language_info": {
   "codemirror_mode": {
    "name": "ipython",
    "version": 3
   },
   "file_extension": ".py",
   "mimetype": "text/x-python",
   "name": "python",
   "nbconvert_exporter": "python",
   "pygments_lexer": "ipython3",
   "version": "3.11.12"
  }
 },
 "nbformat": 4,
 "nbformat_minor": 5
}
