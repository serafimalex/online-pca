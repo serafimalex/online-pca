{
 "cells": [
  {
   "cell_type": "code",
   "execution_count": 1,
   "id": "68d907e0",
   "metadata": {},
   "outputs": [],
   "source": [
    "import numpy as np\n",
    "import matplotlib.pyplot as plt\n",
    "import time\n",
    "from sklearn.decomposition import PCA, IncrementalPCA, TruncatedSVD\n",
    "from sklearn.utils.extmath import randomized_svd\n",
    "from sklearn.datasets import fetch_openml\n",
    "from oja_pca import OjaPCA\n",
    "import torch\n",
    "import sys\n",
    "import os\n",
    "sys.path.append(os.path.abspath(\"..\"))\n",
    "from online_psp.online_psp.ccipca import CCIPCA\n",
    "\n",
    "from svd import ApproxSVD "
   ]
  },
  {
   "cell_type": "code",
   "execution_count": 2,
   "id": "1ea448f4",
   "metadata": {},
   "outputs": [],
   "source": [
    "try:\n",
    "    import fbpca\n",
    "    HAS_FBPCA = True\n",
    "except ImportError:\n",
    "    HAS_FBPCA = False"
   ]
  },
  {
   "cell_type": "code",
   "execution_count": 3,
   "id": "48c0a682",
   "metadata": {},
   "outputs": [],
   "source": [
    "def load_mnist_subset(n_samples=5000):\n",
    "    mnist = fetch_openml('mnist_784', version=1, as_frame=False)\n",
    "    X = mnist.data.astype(np.float32).T[:, :n_samples] / 255.0\n",
    "    return X  # shape: (784, n_samples)\n",
    "\n",
    "def load_fashion_mnist_subset(n_samples=5000):\n",
    "    fmnist = fetch_openml('Fashion-MNIST', version=1, as_frame=False)\n",
    "    X = fmnist.data.astype(np.float32).T[:, :n_samples] / 255.0\n",
    "    return X  # shape: (784, n_samples)\n",
    "\n",
    "def load_usps_subset(n_samples=5000):\n",
    "    usps = fetch_openml('USPS', version=1, as_frame=False)\n",
    "    X = usps.data.astype(np.float32).T[:, :n_samples] / 255.0\n",
    "    return X  # shape: (256, n_samples) since USPS has 16x16 images\n",
    "\n",
    "def load_isolet_subset(n_samples=5000):\n",
    "    isolet = fetch_openml('isolet', version=1, as_frame=False)\n",
    "    # Features are already real-valued, just normalize by max\n",
    "    X = isolet.data.astype(np.float32).T[:, :n_samples]\n",
    "    X /= np.max(X)  # scale to [0,1]\n",
    "    return X  # shape: (617, n_samples), 617 audio features\n",
    "\n",
    "def load_mnist_and_fashion(n_samples=5000):\n",
    "    # Load MNIST\n",
    "    mnist = fetch_openml('mnist_784', version=1, as_frame=False)\n",
    "    X_mnist = mnist.data.astype(np.float32)[:n_samples] / 255.0\n",
    "    y_mnist = mnist.target.astype(int)[:n_samples]\n",
    "\n",
    "    # Load Fashion-MNIST\n",
    "    fmnist = fetch_openml('Fashion-MNIST', version=1, as_frame=False)\n",
    "    X_fmnist = fmnist.data.astype(np.float32)[:n_samples] / 255.0\n",
    "    y_fmnist = fmnist.target.astype(int)[:n_samples]\n",
    "\n",
    "    # Stack them together\n",
    "    X = np.vstack([X_mnist, X_fmnist]).T   # shape: (784, 2*n_samples)\n",
    "    return X"
   ]
  },
  {
   "cell_type": "code",
   "execution_count": 4,
   "id": "4a649f7d",
   "metadata": {},
   "outputs": [],
   "source": [
    "def explained_variance_ratio(X, X_recon):\n",
    "    error = np.linalg.norm(X - X_recon, 'fro') ** 2\n",
    "    total = np.linalg.norm(X, 'fro') ** 2\n",
    "    return 1 - error / total"
   ]
  },
  {
   "cell_type": "code",
   "execution_count": 5,
   "id": "fabe223f",
   "metadata": {},
   "outputs": [],
   "source": [
    "def benchmark(method_name, fit_fn):\n",
    "    start = time.time()\n",
    "    U, S, Vt, X_recon = fit_fn()\n",
    "    elapsed = time.time() - start\n",
    "    evr = explained_variance_ratio(X, X_recon)\n",
    "    return {\n",
    "        \"method\": method_name,\n",
    "        \"time\": elapsed,\n",
    "        \"explained_variance\": evr,\n",
    "    }"
   ]
  },
  {
   "cell_type": "code",
   "execution_count": 9,
   "id": "a4b3cc02",
   "metadata": {},
   "outputs": [],
   "source": [
    "def run_benchmarks(X, p=50, g=200):\n",
    "    results = []\n",
    "\n",
    "    #ApproxSVD\n",
    "    def run_approx():\n",
    "        approx_svd = ApproxSVD(n_iter=g, p=p,\n",
    "                               score_method=\"cf\",\n",
    "                               debug_mode=True,\n",
    "                               jobs=8,\n",
    "                               stored_g = False,\n",
    "                               use_shared_memory=False,\n",
    "                               use_heap=\"optimized_heap\")\n",
    "        _, U, X_approx = approx_svd.fit_batched(X, 100000)\n",
    "        X_reduced = U.T[:p, :] @ X\n",
    "        X_recon = U[:, :p] @ X_reduced\n",
    "        return U, None, None, X_recon\n",
    "    results.append(benchmark(\"ApproxSVD\", run_approx))\n",
    "\n",
    "    # sklearn PCA (full SVD)\n",
    "    # def run_pca():\n",
    "    #     model = PCA(n_components=p, svd_solver=\"full\")\n",
    "    #     model.fit(X.T)\n",
    "    #     X_recon = model.inverse_transform(model.transform(X.T)).T\n",
    "    #     return model.components_.T, model.singular_values_, None, X_recon\n",
    "    # results.append(benchmark(\"PCA (full)\", run_pca))\n",
    "\n",
    "    # Incremental PCA\n",
    "    def run_incpca():\n",
    "        model = IncrementalPCA(n_components=p, batch_size=100000)\n",
    "        model.fit(X.T)\n",
    "        X_recon = model.inverse_transform(model.transform(X.T)).T\n",
    "        return model.components_.T, None, None, X_recon\n",
    "    results.append(benchmark(\"IncrementalPCA\", run_incpca))\n",
    "\n",
    "    #  #TruncatedSVD (randomized)\n",
    "    # def run_tsvd():\n",
    "    #     model = TruncatedSVD(n_components=p)\n",
    "    #     X_reduced = model.fit_transform(X.T)\n",
    "    #     # Reconstruction: approximate, since TSVD doesn't store mean\n",
    "    #     X_recon = (X_reduced @ model.components_).T\n",
    "    #     return model.components_.T, None, None, X_recon\n",
    "    # results.append(benchmark(\"TruncatedSVD\", run_tsvd))\n",
    "\n",
    "    # def run_oja():\n",
    "    #     model = OjaPCA(\n",
    "    #         n_features=X.shape[0],\n",
    "    #         n_components=p,\n",
    "    #         eta=0.005,\n",
    "    #     )\n",
    "    #     X_tensor = torch.tensor(X.T)\n",
    "    #     b_size = 100000\n",
    "    #     for i in range(0, len(X_tensor) - b_size, b_size):\n",
    "    #         batch = X_tensor[i : i + b_size]\n",
    "    #         if len(batch) < b_size:\n",
    "    #             # This line means we use up to an extra partial batch over 1 pass\n",
    "    #             batch = torch.cat([batch, X_tensor[: b_size - len(batch)]], dim=0)\n",
    "    #         error = model(batch) if hasattr(model, \"forward\") else None\n",
    "    #     recon = model.inverse_transform(model.transform(X_tensor))\n",
    "    #     return np.array(model.get_components()), None, None, np.array(recon).T\n",
    "    # results.append(benchmark(\"OjaPCA\", run_oja))\n",
    "\n",
    "    # def run_ccipca():\n",
    "    #     sigma2_0 = 1e-8 * np.ones(p)\n",
    "    #     Uhat0 = (X[:, :p] / np.sqrt((X[:, :p] ** 2).sum(0))).astype(np.float64)\n",
    "    #     ccipca = CCIPCA(p, X.shape[0], Uhat0=Uhat0, sigma2_0=sigma2_0, cython=True)\n",
    "    #     n_epoch = 2\n",
    "    #     for n_e in range(n_epoch):\n",
    "    #         for x in X.T:\n",
    "    #             ccipca.fit_next(x.astype(np.float64))\n",
    "    #     X_reduced = ccipca.get_components().T @ X\n",
    "    #     X_recon = ccipca.get_components() @ X_reduced\n",
    "    #     return np.array(ccipca.get_components()), None, None, np.array(X_recon)\n",
    "    # results.append(benchmark(\"CCIPCA\", run_ccipca))\n",
    "\n",
    "    # fbpca (if available)\n",
    "    if HAS_FBPCA:\n",
    "        def run_fbpca():\n",
    "            U, s, Vt = fbpca.pca(X, k=p, raw=True)\n",
    "            X_recon = (U[:, :p] * s[:p]) @ Vt[:p, :]\n",
    "            return U, s, Vt, X_recon\n",
    "        results.append(benchmark(\"fBPCA\", run_fbpca))\n",
    "\n",
    "    return results"
   ]
  },
  {
   "cell_type": "code",
   "execution_count": 11,
   "id": "29e0727a",
   "metadata": {},
   "outputs": [
    {
     "name": "stderr",
     "output_type": "stream",
     "text": [
      "100%|██████████| 10000/10000 [00:29<00:00, 339.78it/s]\n"
     ]
    },
    {
     "name": "stdout",
     "output_type": "stream",
     "text": [
      "{'initial scores': {'total': 0.05935699999827193, 'count': 1, 'avg': 0.05935699999827193}, 'build heap': {'total': 0.09286210000209394, 'count': 1, 'avg': 0.09286210000209394}, 'perform small svd': {'total': 0.9949695000468637, 'count': 10000, 'avg': 9.949695000468637e-05}, 'perform matrix mul': {'total': 2.2419065000758565, 'count': 10000, 'avg': 0.00022419065000758566}, 'calculate row score': {'total': 2.469963299958181, 'count': 10253, 'avg': 0.000240901521501822}, 'rebuild heap': {'total': 2.543695099739125, 'count': 10253, 'avg': 0.0002480927630682849}, 'update cols': {'total': 19.321120999880804, 'count': 10000, 'avg': 0.0019321120999880805}, 'total time': {'total': 29.598445299998275, 'count': 1, 'avg': 29.598445299998275}}\n"
     ]
    },
    {
     "name": "stderr",
     "output_type": "stream",
     "text": [
      "100%|██████████| 10000/10000 [00:29<00:00, 342.44it/s]\n"
     ]
    },
    {
     "name": "stdout",
     "output_type": "stream",
     "text": [
      "{'initial scores': {'total': 0.07777279999936582, 'count': 1, 'avg': 0.07777279999936582}, 'build heap': {'total': 0.11851739999838173, 'count': 1, 'avg': 0.11851739999838173}, 'perform small svd': {'total': 1.0353783002938144, 'count': 10000, 'avg': 0.00010353783002938144}, 'perform matrix mul': {'total': 2.632564599825855, 'count': 10000, 'avg': 0.0002632564599825855}, 'calculate row score': {'total': 2.91462129995125, 'count': 10633, 'avg': 0.0002741109094283128}, 'rebuild heap': {'total': 2.6647838000935735, 'count': 10633, 'avg': 0.0002506144832214402}, 'update cols': {'total': 17.97644869978467, 'count': 10000, 'avg': 0.0017976448699784668}, 'total time': {'total': 29.401277900000423, 'count': 1, 'avg': 29.401277900000423}}\n"
     ]
    },
    {
     "name": "stderr",
     "output_type": "stream",
     "text": [
      "100%|██████████| 10000/10000 [00:32<00:00, 305.23it/s]\n"
     ]
    },
    {
     "name": "stdout",
     "output_type": "stream",
     "text": [
      "{'initial scores': {'total': 0.07649880000099074, 'count': 1, 'avg': 0.07649880000099074}, 'build heap': {'total': 0.14194660000066506, 'count': 1, 'avg': 0.14194660000066506}, 'perform small svd': {'total': 1.0586422000051243, 'count': 10000, 'avg': 0.00010586422000051244}, 'perform matrix mul': {'total': 3.3304372998354665, 'count': 10000, 'avg': 0.00033304372998354664}, 'calculate row score': {'total': 3.5587400998774683, 'count': 11304, 'avg': 0.0003148213110295}, 'rebuild heap': {'total': 2.86690399973304, 'count': 11304, 'avg': 0.00025361854208537154}, 'update cols': {'total': 19.866647099974216, 'count': 10000, 'avg': 0.0019866647099974215}, 'total time': {'total': 32.986023999998, 'count': 1, 'avg': 32.986023999998}}\n",
      "\n",
      "Benchmark Results:\n",
      "ApproxSVD       | Time: 99.85s | Explained Var: 79.64%\n",
      "IncrementalPCA  | Time: 40.14s | Explained Var: 97.46%\n"
     ]
    },
    {
     "data": {
      "image/png": "[encoded data removed]",
      "text/plain": [
       "<Figure size 800x400 with 2 Axes>"
      ]
     },
     "metadata": {},
     "output_type": "display_data"
    }
   ],
   "source": [
    "X = load_mnist_and_fashion(n_samples=60000)\n",
    "# X = np.random.rand(784,300000).astype(np.float32)\n",
    "n_samples = 300000\n",
    "repeats = int(np.ceil(n_samples / X.shape[1]))\n",
    "X = np.tile(X, (1, repeats))[:, :n_samples]\n",
    "# np.random.seed(42) \n",
    "# X = np.random.rand(5, 8)\n",
    "p = 200\n",
    "g = 10000\n",
    "\n",
    "results = run_benchmarks(X, p=p, g=g)\n",
    "\n",
    "print(\"\\nBenchmark Results:\")\n",
    "for r in results:\n",
    "    print(f\"{r['method']:15s} | Time: {r['time']:.2f}s | Explained Var: {r['explained_variance']*100:.2f}%\")\n",
    "\n",
    "# Optional: bar plot\n",
    "methods = [r[\"method\"] for r in results]\n",
    "times = [r[\"time\"] for r in results]\n",
    "evrs = [r[\"explained_variance\"] for r in results]\n",
    "\n",
    "fig, ax1 = plt.subplots(figsize=(8,4))\n",
    "ax2 = ax1.twinx()\n",
    "\n",
    "ax1.bar(methods, times, alpha=0.6, label=\"Time (s)\")\n",
    "ax2.plot(methods, evrs, \"o-\", color=\"red\", label=\"Explained Var\")\n",
    "\n",
    "ax1.set_ylabel(\"Time (s)\")\n",
    "ax2.set_ylabel(\"Explained Variance\")\n",
    "plt.title(f\"PCA Benchmark (p={p}, g={g}) on MNIST subset\")\n",
    "plt.show()"
   ]
  }
 ],
 "metadata": {
  "kernelspec": {
   "display_name": "online-pca",
   "language": "python",
   "name": "python3"
  },
  "language_info": {
   "codemirror_mode": {
    "name": "ipython",
    "version": 3
   },
   "file_extension": ".py",
   "mimetype": "text/x-python",
   "name": "python",
   "nbconvert_exporter": "python",
   "pygments_lexer": "ipython3",
   "version": "3.11.12"
  }
 },
 "nbformat": 4,
 "nbformat_minor": 5
}
